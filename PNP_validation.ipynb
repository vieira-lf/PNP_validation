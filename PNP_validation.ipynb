{
 "cells": [
  {
   "cell_type": "code",
   "execution_count": 89,
   "metadata": {},
   "outputs": [],
   "source": [
    "#Modules\n",
    "from matplotlib import pyplot as plt\n",
    "import numpy as np\n",
    "import pandas as pd\n",
    "import seaborn as sns\n",
    "import math "
   ]
  },
  {
   "cell_type": "code",
   "execution_count": 90,
   "metadata": {},
   "outputs": [],
   "source": [
    "#Constants\n",
    "kT = 4.11e-21 \n",
    "e = 1.6e-19 # C, elementar charge\n",
    "Na = 6.02e23 # part/mol\n",
    "muK = 7.75e-8 # ion mobility, m2 v-1s-1\n",
    "muCL = muK "
   ]
  },
  {
   "cell_type": "code",
   "execution_count": 91,
   "metadata": {},
   "outputs": [],
   "source": [
    "#Input\n",
    "dnp = 30e-9 # m, particle diameter\n",
    "dp = 80e-9 # m, pore diameter\n",
    "Lp =100e-9 # m, pore length\n",
    "V = 0.200 # V, applied potential\n",
    "molar_concentration = 0.200 # mol/L, salt concentration\n",
    "no = molar_concentration * 1000 * Na # part/m3"
   ]
  },
  {
   "cell_type": "markdown",
   "metadata": {},
   "source": [
    "## Uncharged surfaces, not considering access resistance"
   ]
  },
  {
   "cell_type": "code",
   "execution_count": 107,
   "metadata": {},
   "outputs": [
    {
     "name": "stdout",
     "output_type": "stream",
     "text": [
      "Open-pore current: 30.0 nA \n",
      "(no charge, no access resistance)\n"
     ]
    }
   ],
   "source": [
    "# Open pore\n",
    "n_i =no\n",
    "gamma = (muK * e *  n_i) + (muCL * e *  n_i) #local conductivity\n",
    "R_o = 4 * Lp /(np.pi * dp * dp * gamma)\n",
    "i_o=V/R_o\n",
    "print(f'Open-pore current: {i_o*1e9:.1f} nA \\n(no charge, no access resistance)')"
   ]
  },
  {
   "cell_type": "code",
   "execution_count": 130,
   "metadata": {},
   "outputs": [
    {
     "name": "stdout",
     "output_type": "stream",
     "text": [
      "Current, sphere blocking : 29.1 nA \n",
      "(no charge, no access resistance)\n",
      "Relative blockade: -0.03\n"
     ]
    }
   ],
   "source": [
    "# Model sphere\n",
    "Ra = 4 * (Lp-dnp)/(np.pi) *  1/(dp * dp) * 1/gamma \n",
    "b = dnp/2\n",
    "rnp = dnp/2\n",
    "rp = dp/2\n",
    "Rb = 2/np.pi * 1/gamma * (1/np.sqrt(rp*rp - rnp*rnp) ) * np.arctan( b* 1/np.sqrt(rp*rp - rnp*rnp ) )\n",
    "R_uncharged_sphere = Ra + Rb\n",
    "i_uncharged_sphere = V/R_uncharged_sphere\n",
    "deltai_over_io_sphere = (i_uncharged_sphere-i_o)/i_o\n",
    "print(f'Current, sphere blocking : {i_uncharged_sphere*1e9:.1f} nA \\n(no charge, no access resistance)')\n",
    "print(f'Relative blockade: {deltai_over_io_sphere :.2f}')"
   ]
  },
  {
   "cell_type": "code",
   "execution_count": 109,
   "metadata": {},
   "outputs": [
    {
     "name": "stdout",
     "output_type": "stream",
     "text": [
      "Current, rod blocking, no charge, no access resistance: 25.8 nA\n",
      "Relative blockade: -0.14\n"
     ]
    }
   ],
   "source": [
    "# model long rod\n",
    "Lrod = Lp\n",
    "R_uncharged_rod = 4*Lrod/np.pi * 1/gamma * 1/(dp*dp - dnp*dnp)   \n",
    "i_uncharged_rod = V/R_uncharged_rod\n",
    "deltai_over_io_rod = (i_uncharged_rod-i_o)/i_o\n",
    "print(f'Current, rod blocking, no charge, no access resistance: {i_uncharged_rod*1e9:.1f} nA')\n",
    "print(f'Relative blockade: {(i_uncharged_rod-i_o)/i_o :.2f}')"
   ]
  },
  {
   "cell_type": "markdown",
   "metadata": {},
   "source": [
    "## Uncharged surfaces, considering access resistance"
   ]
  },
  {
   "cell_type": "code",
   "execution_count": 110,
   "metadata": {},
   "outputs": [
    {
     "name": "stdout",
     "output_type": "stream",
     "text": [
      "Open-pore current: 18.4 nA \n",
      "(no charge, with access resistance)\n"
     ]
    }
   ],
   "source": [
    "# Open pore, access\n",
    "R_acc = R_o * np.pi * dp /(4*Lp)\n",
    "i_o_acc = V/(R_o + R_acc)\n",
    "print(f'Open-pore current: {i_o_acc*1e9:.1f} nA \\n(no charge, with access resistance)')"
   ]
  },
  {
   "cell_type": "code",
   "execution_count": 111,
   "metadata": {},
   "outputs": [
    {
     "name": "stdout",
     "output_type": "stream",
     "text": [
      "Current, sphere blocking : 18.1 nA \n",
      "(no charge, with access resistance)\n",
      "Relative blockade: -0.02\n"
     ]
    }
   ],
   "source": [
    "# Model sphere, access\n",
    "R_uncharged_sphere_acc = R_uncharged_sphere + R_acc\n",
    "i_uncharged_sphere_acc = V/R_uncharged_sphere_acc\n",
    "deltai_over_io_sphere_acc = (i_uncharged_sphere_acc-i_o_acc)/i_o_acc\n",
    "print(f'Current, sphere blocking : {i_uncharged_sphere_acc*1e9:.1f} nA \\n(no charge, with access resistance)')\n",
    "print(f'Relative blockade: { deltai_over_io_sphere_acc :.2f}')"
   ]
  },
  {
   "cell_type": "code",
   "execution_count": 112,
   "metadata": {},
   "outputs": [
    {
     "name": "stdout",
     "output_type": "stream",
     "text": [
      "Current, rod blocking : 16.8 nA \n",
      "(no charge, with access resistance)\n",
      "Relative blockade: -0.09\n"
     ]
    }
   ],
   "source": [
    "# Model long rod\n",
    "R_uncharged_rod_acc = R_uncharged_rod + R_acc\n",
    "i_uncharged_rod_acc = V/R_uncharged_rod_acc\n",
    "deltai_over_io_rod_acc = (i_uncharged_rod_acc-i_o_acc)/i_o_acc \n",
    "\n",
    "print(f'Current, rod blocking : {i_uncharged_rod_acc*1e9:.1f} nA \\n(no charge, with access resistance)')\n",
    "print(f'Relative blockade: {deltai_over_io_rod_acc :.2f}')"
   ]
  },
  {
   "cell_type": "markdown",
   "metadata": {},
   "source": [
    "## Summary"
   ]
  },
  {
   "cell_type": "code",
   "execution_count": 162,
   "metadata": {},
   "outputs": [
    {
     "data": {
      "text/html": [
       "<style  type=\"text/css\" >\n",
       "</style><table id=\"T_ff17f084_db8b_11ec_98d3_8c85900d2046\" ><thead>    <tr>        <th class=\"blank level0\" ></th>        <th class=\"col_heading level0 col0\" ></th>        <th class=\"col_heading level0 col1\" >Current (nA)</th>        <th class=\"col_heading level0 col2\" >Relative blockade</th>    </tr></thead><tbody>\n",
       "                <tr>\n",
       "                        <th id=\"T_ff17f084_db8b_11ec_98d3_8c85900d2046level0_row0\" class=\"row_heading level0 row0\" >0</th>\n",
       "                        <td id=\"T_ff17f084_db8b_11ec_98d3_8c85900d2046row0_col0\" class=\"data row0 col0\" >Open pore</td>\n",
       "                        <td id=\"T_ff17f084_db8b_11ec_98d3_8c85900d2046row0_col1\" class=\"data row0 col1\" >30.0</td>\n",
       "                        <td id=\"T_ff17f084_db8b_11ec_98d3_8c85900d2046row0_col2\" class=\"data row0 col2\" >nan</td>\n",
       "            </tr>\n",
       "            <tr>\n",
       "                        <th id=\"T_ff17f084_db8b_11ec_98d3_8c85900d2046level0_row1\" class=\"row_heading level0 row1\" >1</th>\n",
       "                        <td id=\"T_ff17f084_db8b_11ec_98d3_8c85900d2046row1_col0\" class=\"data row1 col0\" >Sphere</td>\n",
       "                        <td id=\"T_ff17f084_db8b_11ec_98d3_8c85900d2046row1_col1\" class=\"data row1 col1\" >29.1</td>\n",
       "                        <td id=\"T_ff17f084_db8b_11ec_98d3_8c85900d2046row1_col2\" class=\"data row1 col2\" >-0.03</td>\n",
       "            </tr>\n",
       "            <tr>\n",
       "                        <th id=\"T_ff17f084_db8b_11ec_98d3_8c85900d2046level0_row2\" class=\"row_heading level0 row2\" >2</th>\n",
       "                        <td id=\"T_ff17f084_db8b_11ec_98d3_8c85900d2046row2_col0\" class=\"data row2 col0\" >Long rod</td>\n",
       "                        <td id=\"T_ff17f084_db8b_11ec_98d3_8c85900d2046row2_col1\" class=\"data row2 col1\" >25.8</td>\n",
       "                        <td id=\"T_ff17f084_db8b_11ec_98d3_8c85900d2046row2_col2\" class=\"data row2 col2\" >-0.14</td>\n",
       "            </tr>\n",
       "            <tr>\n",
       "                        <th id=\"T_ff17f084_db8b_11ec_98d3_8c85900d2046level0_row3\" class=\"row_heading level0 row3\" >3</th>\n",
       "                        <td id=\"T_ff17f084_db8b_11ec_98d3_8c85900d2046row3_col0\" class=\"data row3 col0\" >Open pore, w/ acc</td>\n",
       "                        <td id=\"T_ff17f084_db8b_11ec_98d3_8c85900d2046row3_col1\" class=\"data row3 col1\" >18.4</td>\n",
       "                        <td id=\"T_ff17f084_db8b_11ec_98d3_8c85900d2046row3_col2\" class=\"data row3 col2\" >nan</td>\n",
       "            </tr>\n",
       "            <tr>\n",
       "                        <th id=\"T_ff17f084_db8b_11ec_98d3_8c85900d2046level0_row4\" class=\"row_heading level0 row4\" >4</th>\n",
       "                        <td id=\"T_ff17f084_db8b_11ec_98d3_8c85900d2046row4_col0\" class=\"data row4 col0\" >Sphere, w/ acc</td>\n",
       "                        <td id=\"T_ff17f084_db8b_11ec_98d3_8c85900d2046row4_col1\" class=\"data row4 col1\" >18.1</td>\n",
       "                        <td id=\"T_ff17f084_db8b_11ec_98d3_8c85900d2046row4_col2\" class=\"data row4 col2\" >-0.02</td>\n",
       "            </tr>\n",
       "            <tr>\n",
       "                        <th id=\"T_ff17f084_db8b_11ec_98d3_8c85900d2046level0_row5\" class=\"row_heading level0 row5\" >5</th>\n",
       "                        <td id=\"T_ff17f084_db8b_11ec_98d3_8c85900d2046row5_col0\" class=\"data row5 col0\" >Long rod, w/ acc</td>\n",
       "                        <td id=\"T_ff17f084_db8b_11ec_98d3_8c85900d2046row5_col1\" class=\"data row5 col1\" >16.8</td>\n",
       "                        <td id=\"T_ff17f084_db8b_11ec_98d3_8c85900d2046row5_col2\" class=\"data row5 col2\" >-0.09</td>\n",
       "            </tr>\n",
       "    </tbody></table>"
      ],
      "text/plain": [
       "<pandas.io.formats.style.Styler at 0x7fab2ac3e340>"
      ]
     },
     "execution_count": 162,
     "metadata": {},
     "output_type": "execute_result"
    }
   ],
   "source": [
    "cols = ['', 'Current (nA)', 'Relative blockade' ]\n",
    "data = [['Open pore',i_o*1e9, ], \n",
    "        ['Sphere', i_uncharged_sphere*1e9, deltai_over_io_sphere], \n",
    "        ['Long rod', i_uncharged_rod*1e9, deltai_over_io_rod], \n",
    "        ['Open pore, w/ acc',i_o_acc*1e9,], \n",
    "        ['Sphere, w/ acc', i_uncharged_sphere_acc*1e9, deltai_over_io_sphere_acc], \n",
    "        ['Long rod, w/ acc', i_uncharged_rod_acc*1e9, deltai_over_io_rod_acc],   ]\n",
    "df = pd.DataFrame(data, columns=cols)\n",
    "df.style.format({'Current (nA)': '{:.1f}', 'Relative blockade': '{:.2f}'})"
   ]
  },
  {
   "cell_type": "code",
   "execution_count": null,
   "metadata": {},
   "outputs": [],
   "source": []
  },
  {
   "cell_type": "code",
   "execution_count": null,
   "metadata": {},
   "outputs": [],
   "source": []
  }
 ],
 "metadata": {
  "kernelspec": {
   "display_name": "Python 3",
   "language": "python",
   "name": "python3"
  },
  "language_info": {
   "codemirror_mode": {
    "name": "ipython",
    "version": 3
   },
   "file_extension": ".py",
   "mimetype": "text/x-python",
   "name": "python",
   "nbconvert_exporter": "python",
   "pygments_lexer": "ipython3",
   "version": "3.8.5"
  }
 },
 "nbformat": 4,
 "nbformat_minor": 4
}
